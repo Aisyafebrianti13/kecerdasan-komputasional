{
  "cells": [
    {
      "cell_type": "markdown",
      "metadata": {
        "id": "view-in-github"
      },
      "source": [
        "<a href=\"https://colab.research.google.com/github/Angga-Luri/some-try-code/blob/main/K_Means_Clustering.ipynb\" target=\"_parent\"><img src=\"https://colab.research.google.com/assets/colab-badge.svg\" alt=\"Open In Colab\"/></a>"
      ]
    },
    {
      "cell_type": "code",
      "execution_count": 22,
      "metadata": {
        "id": "S6ePUqDTGwHm"
      },
      "outputs": [],
      "source": [
        "import matplotlib as plt\n",
        "from sklearn.datasets import make_blobs\n",
        "from sklearn.cluster import KMeans\n",
        "from sklearn.metrics import silhouette_score\n",
        "from sklearn.preprocessing import StandardScaler"
      ]
    },
    {
      "cell_type": "code",
      "execution_count": 23,
      "metadata": {
        "id": "nkPblt_CGxB_"
      },
      "outputs": [],
      "source": [
        "features, true_label = make_blobs(\n",
        "    n_samples=900,\n",
        "    centers=5,\n",
        "    cluster_std=2.75,\n",
        "    random_state=42\n",
        ")"
      ]
    },
    {
      "cell_type": "code",
      "execution_count": 24,
      "metadata": {
        "colab": {
          "base_uri": "https://localhost:8080/"
        },
        "id": "9QCDzpecHyL3",
        "outputId": "653332d1-3966-403b-c11c-6040219dee86"
      },
      "outputs": [
        {
          "output_type": "execute_result",
          "data": {
            "text/plain": [
              "array([[ -4.7593045 ,  14.76835114],\n",
              "       [ -8.22256389,  11.0749091 ],\n",
              "       [ -9.14419943,   4.8377769 ],\n",
              "       [ -0.03529797,   9.85935981],\n",
              "       [  5.64802401,  -0.61149973],\n",
              "       [  3.71647091,   6.56297888],\n",
              "       [  3.05375768,   4.05049555],\n",
              "       [ -6.30657447, -12.49488048],\n",
              "       [-11.85308425,   3.36338299],\n",
              "       [ -2.74528186,  -4.46736329]])"
            ]
          },
          "metadata": {},
          "execution_count": 24
        }
      ],
      "source": [
        "features[:10]"
      ]
    },
    {
      "cell_type": "code",
      "execution_count": 25,
      "metadata": {
        "colab": {
          "base_uri": "https://localhost:8080/"
        },
        "id": "agqrrSs7H4VM",
        "outputId": "499ab551-f360-44f5-d699-821311900e6e"
      },
      "outputs": [
        {
          "output_type": "execute_result",
          "data": {
            "text/plain": [
              "array([0, 3, 3, 0, 1, 1, 1, 2, 3, 2, 2, 2, 0, 1, 1, 2, 2, 0, 4, 4, 1, 4,\n",
              "       2, 3, 4, 1, 4, 3, 0, 4, 1, 2, 4, 0, 0, 4, 4, 2, 1, 2, 3, 1, 4, 4,\n",
              "       0, 2, 0, 3, 2, 2, 2, 4, 4, 2, 1, 3, 1, 3, 2, 1, 2, 0, 3, 1, 0, 3,\n",
              "       1, 0, 4, 0, 4, 0, 1, 3, 1, 3, 2, 1, 2, 4, 2, 4, 2, 4, 4, 1, 3, 2,\n",
              "       4, 4, 2, 4, 0, 3, 2, 3, 2, 0, 0, 1, 4, 0, 1, 1, 3, 3, 1, 1, 0, 2,\n",
              "       1, 3, 2, 2, 3, 1, 3, 2, 0, 0, 2, 4, 3, 3, 0, 0, 4, 1, 1, 4, 4, 4,\n",
              "       4, 1, 4, 3, 2, 4, 4, 1, 4, 4, 0, 2, 0, 4, 3, 1, 3, 1, 1, 3, 1, 2,\n",
              "       1, 0, 4, 3, 1, 1, 3, 4, 0, 0, 3, 2, 1, 0, 0, 2, 0, 3, 4, 1, 4, 2,\n",
              "       4, 1, 4, 3, 0, 2, 4, 1, 1, 1, 3, 1, 4, 0, 2, 4, 4, 4, 1, 1, 1, 2,\n",
              "       3, 1])"
            ]
          },
          "metadata": {},
          "execution_count": 25
        }
      ],
      "source": [
        "true_label[:200]"
      ]
    },
    {
      "cell_type": "code",
      "execution_count": 26,
      "metadata": {
        "id": "TwN5RrbbI2aJ"
      },
      "outputs": [],
      "source": [
        "standard_skala = StandardScaler()\n",
        "skala_fitur = standard_skala.fit_transform(features)"
      ]
    },
    {
      "cell_type": "code",
      "execution_count": 27,
      "metadata": {
        "colab": {
          "base_uri": "https://localhost:8080/"
        },
        "id": "yXpt4mI4Oyf8",
        "outputId": "16fcebf3-7460-4d00-c8e5-2df00885c5e1"
      },
      "outputs": [
        {
          "output_type": "execute_result",
          "data": {
            "text/plain": [
              "array([[-0.45645819,  1.85461737],\n",
              "       [-1.07650608,  1.25957526],\n",
              "       [-1.24151197,  0.25472498],\n",
              "       [ 0.38930876,  1.06374086],\n",
              "       [ 1.40682765, -0.62319567],\n",
              "       [ 1.06101022,  0.53266838],\n",
              "       [ 0.94236074,  0.12788786],\n",
              "       [-0.73347512, -2.5377003 ],\n",
              "       [-1.7264997 ,  0.01718871],\n",
              "       [-0.09587575, -1.24440514]])"
            ]
          },
          "metadata": {},
          "execution_count": 27
        }
      ],
      "source": [
        "skala_fitur[:10]"
      ]
    },
    {
      "cell_type": "code",
      "execution_count": 28,
      "metadata": {
        "id": "5lWkbEx6PDq_"
      },
      "outputs": [],
      "source": [
        "metode_kmeans = KMeans(\n",
        "    init=\"random\",\n",
        "    n_clusters=9,\n",
        "    n_init=10,\n",
        "    max_iter=100,\n",
        "    random_state=41\n",
        "    )"
      ]
    },
    {
      "cell_type": "code",
      "execution_count": 29,
      "metadata": {
        "colab": {
          "base_uri": "https://localhost:8080/",
          "height": 74
        },
        "id": "ZmyPuP06R2Gc",
        "outputId": "28841664-cc53-46d9-fdb9-9bfe9ec1d73b"
      },
      "outputs": [
        {
          "output_type": "execute_result",
          "data": {
            "text/plain": [
              "KMeans(init='random', max_iter=100, n_clusters=9, n_init=10, random_state=41)"
            ],
            "text/html": [
              "<style>#sk-container-id-2 {color: black;background-color: white;}#sk-container-id-2 pre{padding: 0;}#sk-container-id-2 div.sk-toggleable {background-color: white;}#sk-container-id-2 label.sk-toggleable__label {cursor: pointer;display: block;width: 100%;margin-bottom: 0;padding: 0.3em;box-sizing: border-box;text-align: center;}#sk-container-id-2 label.sk-toggleable__label-arrow:before {content: \"▸\";float: left;margin-right: 0.25em;color: #696969;}#sk-container-id-2 label.sk-toggleable__label-arrow:hover:before {color: black;}#sk-container-id-2 div.sk-estimator:hover label.sk-toggleable__label-arrow:before {color: black;}#sk-container-id-2 div.sk-toggleable__content {max-height: 0;max-width: 0;overflow: hidden;text-align: left;background-color: #f0f8ff;}#sk-container-id-2 div.sk-toggleable__content pre {margin: 0.2em;color: black;border-radius: 0.25em;background-color: #f0f8ff;}#sk-container-id-2 input.sk-toggleable__control:checked~div.sk-toggleable__content {max-height: 200px;max-width: 100%;overflow: auto;}#sk-container-id-2 input.sk-toggleable__control:checked~label.sk-toggleable__label-arrow:before {content: \"▾\";}#sk-container-id-2 div.sk-estimator input.sk-toggleable__control:checked~label.sk-toggleable__label {background-color: #d4ebff;}#sk-container-id-2 div.sk-label input.sk-toggleable__control:checked~label.sk-toggleable__label {background-color: #d4ebff;}#sk-container-id-2 input.sk-hidden--visually {border: 0;clip: rect(1px 1px 1px 1px);clip: rect(1px, 1px, 1px, 1px);height: 1px;margin: -1px;overflow: hidden;padding: 0;position: absolute;width: 1px;}#sk-container-id-2 div.sk-estimator {font-family: monospace;background-color: #f0f8ff;border: 1px dotted black;border-radius: 0.25em;box-sizing: border-box;margin-bottom: 0.5em;}#sk-container-id-2 div.sk-estimator:hover {background-color: #d4ebff;}#sk-container-id-2 div.sk-parallel-item::after {content: \"\";width: 100%;border-bottom: 1px solid gray;flex-grow: 1;}#sk-container-id-2 div.sk-label:hover label.sk-toggleable__label {background-color: #d4ebff;}#sk-container-id-2 div.sk-serial::before {content: \"\";position: absolute;border-left: 1px solid gray;box-sizing: border-box;top: 0;bottom: 0;left: 50%;z-index: 0;}#sk-container-id-2 div.sk-serial {display: flex;flex-direction: column;align-items: center;background-color: white;padding-right: 0.2em;padding-left: 0.2em;position: relative;}#sk-container-id-2 div.sk-item {position: relative;z-index: 1;}#sk-container-id-2 div.sk-parallel {display: flex;align-items: stretch;justify-content: center;background-color: white;position: relative;}#sk-container-id-2 div.sk-item::before, #sk-container-id-2 div.sk-parallel-item::before {content: \"\";position: absolute;border-left: 1px solid gray;box-sizing: border-box;top: 0;bottom: 0;left: 50%;z-index: -1;}#sk-container-id-2 div.sk-parallel-item {display: flex;flex-direction: column;z-index: 1;position: relative;background-color: white;}#sk-container-id-2 div.sk-parallel-item:first-child::after {align-self: flex-end;width: 50%;}#sk-container-id-2 div.sk-parallel-item:last-child::after {align-self: flex-start;width: 50%;}#sk-container-id-2 div.sk-parallel-item:only-child::after {width: 0;}#sk-container-id-2 div.sk-dashed-wrapped {border: 1px dashed gray;margin: 0 0.4em 0.5em 0.4em;box-sizing: border-box;padding-bottom: 0.4em;background-color: white;}#sk-container-id-2 div.sk-label label {font-family: monospace;font-weight: bold;display: inline-block;line-height: 1.2em;}#sk-container-id-2 div.sk-label-container {text-align: center;}#sk-container-id-2 div.sk-container {/* jupyter's `normalize.less` sets `[hidden] { display: none; }` but bootstrap.min.css set `[hidden] { display: none !important; }` so we also need the `!important` here to be able to override the default hidden behavior on the sphinx rendered scikit-learn.org. See: https://github.com/scikit-learn/scikit-learn/issues/21755 */display: inline-block !important;position: relative;}#sk-container-id-2 div.sk-text-repr-fallback {display: none;}</style><div id=\"sk-container-id-2\" class=\"sk-top-container\"><div class=\"sk-text-repr-fallback\"><pre>KMeans(init=&#x27;random&#x27;, max_iter=100, n_clusters=9, n_init=10, random_state=41)</pre><b>In a Jupyter environment, please rerun this cell to show the HTML representation or trust the notebook. <br />On GitHub, the HTML representation is unable to render, please try loading this page with nbviewer.org.</b></div><div class=\"sk-container\" hidden><div class=\"sk-item\"><div class=\"sk-estimator sk-toggleable\"><input class=\"sk-toggleable__control sk-hidden--visually\" id=\"sk-estimator-id-2\" type=\"checkbox\" checked><label for=\"sk-estimator-id-2\" class=\"sk-toggleable__label sk-toggleable__label-arrow\">KMeans</label><div class=\"sk-toggleable__content\"><pre>KMeans(init=&#x27;random&#x27;, max_iter=100, n_clusters=9, n_init=10, random_state=41)</pre></div></div></div></div></div>"
            ]
          },
          "metadata": {},
          "execution_count": 29
        }
      ],
      "source": [
        "metode_kmeans.fit(skala_fitur)"
      ]
    },
    {
      "cell_type": "code",
      "execution_count": 30,
      "metadata": {
        "colab": {
          "base_uri": "https://localhost:8080/"
        },
        "id": "b3JVLMkcSNaE",
        "outputId": "b06d9a4c-80e7-42fe-fcb9-d78c9bcfe104"
      },
      "outputs": [
        {
          "output_type": "execute_result",
          "data": {
            "text/plain": [
              "188.28072037944105"
            ]
          },
          "metadata": {},
          "execution_count": 30
        }
      ],
      "source": [
        "metode_kmeans.inertia_"
      ]
    },
    {
      "cell_type": "code",
      "execution_count": 31,
      "metadata": {
        "colab": {
          "base_uri": "https://localhost:8080/"
        },
        "id": "3evacVnUUMR5",
        "outputId": "ab9f3186-069c-4ac7-f5e5-d2837e4f04f7"
      },
      "outputs": [
        {
          "output_type": "execute_result",
          "data": {
            "text/plain": [
              "array([[-0.89714112, -1.34152194],\n",
              "       [-0.14147135,  0.515882  ],\n",
              "       [ 1.55986842, -0.26376623],\n",
              "       [-1.23572532,  0.99925597],\n",
              "       [-1.33192042,  0.24350798],\n",
              "       [-0.52973764, -2.00918967],\n",
              "       [ 0.69824476, -0.28690189],\n",
              "       [ 0.96264575,  0.5775273 ],\n",
              "       [-0.08286547,  1.28447328]])"
            ]
          },
          "metadata": {},
          "execution_count": 31
        }
      ],
      "source": [
        "metode_kmeans.cluster_centers_"
      ]
    },
    {
      "cell_type": "code",
      "execution_count": 32,
      "metadata": {
        "colab": {
          "base_uri": "https://localhost:8080/"
        },
        "id": "NoWHmBQaURp2",
        "outputId": "1f832343-88a4-4001-f7fe-77c09772adc0"
      },
      "outputs": [
        {
          "output_type": "execute_result",
          "data": {
            "text/plain": [
              "17"
            ]
          },
          "metadata": {},
          "execution_count": 32
        }
      ],
      "source": [
        "metode_kmeans.n_iter_"
      ]
    },
    {
      "cell_type": "code",
      "execution_count": 33,
      "metadata": {
        "colab": {
          "base_uri": "https://localhost:8080/"
        },
        "id": "SJNbkGhEWQRQ",
        "outputId": "8f93ead2-1967-4870-892f-3eca91382869"
      },
      "outputs": [
        {
          "output_type": "execute_result",
          "data": {
            "text/plain": [
              "array([8, 3, 4, 8, 2, 7, 7, 5, 4, 0, 0, 0, 1, 6, 2, 0, 0, 8, 6, 7, 2, 7,\n",
              "       0, 4, 6, 2, 7, 1, 8, 6, 2, 0, 2, 8, 8, 7, 7, 0, 2, 4, 4, 2, 6, 7,\n",
              "       8, 0, 8, 3, 0, 0, 5, 7, 1, 5, 6, 4, 2, 3, 0, 6, 0, 1, 4, 7, 8, 3,\n",
              "       6, 7, 1, 1, 6, 7, 7, 4, 2, 4, 0, 2, 5, 2, 5, 6, 5, 6, 1, 2, 4, 0,\n",
              "       6, 2, 5, 6, 1, 3, 0, 3, 0, 8, 8, 6, 2, 7, 2, 2, 1, 3, 6, 2, 1, 5,\n",
              "       6, 3, 5, 5, 4, 2, 3, 5, 8, 1, 0, 7, 3, 4, 1, 1, 6, 6, 7, 6, 1, 6,\n",
              "       7, 2, 6, 1, 0, 7, 6, 6, 6, 1, 8, 0, 7, 6, 3, 7, 3, 2, 6, 3, 6, 0,\n",
              "       6, 8, 6, 4, 2, 6, 3, 7, 8, 8, 3, 5, 1, 1, 3, 0, 8, 4, 6, 7, 1, 0,\n",
              "       1, 6, 6, 3, 1, 0, 6, 1, 6, 7, 3, 6, 2, 1, 0, 6, 2, 2, 6, 2, 6, 5,\n",
              "       4, 6, 7, 1, 1, 5, 5, 2, 2, 8, 5, 0, 6, 3, 8, 2, 5, 5, 0, 7, 2, 5,\n",
              "       3, 1, 6, 6, 3, 3, 0, 2, 7, 7, 3, 1, 8, 6, 5, 8, 7, 2, 6, 6, 3, 3,\n",
              "       8, 3, 0, 8, 1, 7, 5, 8, 0, 7, 7, 0, 6, 7, 1, 1, 0, 1, 1, 1, 5, 1,\n",
              "       6, 1, 7, 7, 8, 3, 6, 6, 1, 7, 1, 6, 8, 1, 6, 7, 8, 0, 7, 7, 6, 1,\n",
              "       3, 4, 0, 4, 3, 3, 2, 5, 7, 1, 3, 3, 8, 6, 3, 0, 6, 1, 7, 3, 7, 8,\n",
              "       0, 7, 6, 4, 8, 3, 5, 6, 8, 0, 6, 8, 4, 7, 4, 7, 4, 7, 3, 7, 2, 5,\n",
              "       0, 4, 7, 2, 1, 1, 7, 4, 5, 7, 5, 2, 6, 1, 8, 7, 6, 8, 0, 3, 7, 7,\n",
              "       6, 7, 2, 2, 1, 8, 7, 0, 2, 3, 1, 6, 6, 2, 2, 1, 4, 1, 8, 5, 5, 2,\n",
              "       2, 8, 3, 1, 4, 0, 5, 1, 2, 8, 2, 3, 5, 1, 3, 4, 0, 1, 3, 7, 8, 7,\n",
              "       1, 6, 1, 6, 5, 2, 0, 6, 7, 5, 5, 8, 2, 6, 1, 2, 3, 2, 3, 3, 5, 7,\n",
              "       2, 1, 0, 1, 5, 6, 1, 4, 5, 3, 0, 3, 2, 5, 2, 6, 0, 3, 5, 2, 2, 2,\n",
              "       8, 4, 4, 6, 1, 1, 6, 5, 4, 2, 2, 6, 2, 6, 1, 3, 8, 4, 6, 5, 4, 1,\n",
              "       7, 8, 7, 8, 3, 6, 0, 1, 3, 1, 0, 0, 1, 2, 6, 6, 1, 0, 6, 3, 2, 5,\n",
              "       7, 1, 0, 8, 8, 2, 8, 1, 2, 6, 3, 6, 8, 0, 5, 2, 0, 8, 7, 2, 3, 7,\n",
              "       3, 6, 8, 4, 7, 6, 7, 0, 8, 3, 7, 7, 1, 7, 2, 0, 4, 3, 4, 8, 5, 0,\n",
              "       6, 2, 4, 2, 6, 7, 3, 7, 8, 1, 8, 0, 5, 8, 1, 5, 3, 6, 2, 7, 6, 6,\n",
              "       2, 8, 5, 3, 5, 7, 7, 6, 1, 2, 8, 6, 3, 0, 4, 1, 7, 0, 7, 2, 4, 4,\n",
              "       6, 1, 7, 1, 5, 4, 7, 8, 4, 8, 7, 3, 4, 2, 6, 6, 0, 6, 5, 6, 0, 6,\n",
              "       3, 4, 6, 7, 1, 4, 6, 1, 6, 8, 2, 1, 2, 1, 6, 8, 6, 0, 1, 6, 5, 3,\n",
              "       3, 2, 1, 7, 0, 2, 6, 7, 6, 1, 3, 6, 1, 0, 7, 2, 0, 1, 8, 6, 3, 4,\n",
              "       2, 8, 6, 5, 1, 1, 3, 1, 1, 0, 4, 0, 0, 6, 0, 3, 8, 6, 8, 4, 2, 1,\n",
              "       5, 3, 5, 4, 8, 2, 4, 0, 0, 7, 3, 6, 8, 1, 2, 1, 1, 8, 6, 7, 3, 3,\n",
              "       5, 2, 1, 3, 4, 2, 8, 1, 2, 5, 0, 3, 8, 5, 4, 6, 3, 0, 0, 2, 6, 6,\n",
              "       5, 0, 2, 0, 7, 6, 5, 7, 3, 1, 5, 0, 4, 2, 5, 1, 8, 3, 2, 8, 0, 3,\n",
              "       6, 8, 8, 5, 2, 4, 3, 1, 1, 3, 4, 1, 7, 8, 7, 3, 6, 7, 2, 1, 2, 0,\n",
              "       5, 0, 1, 3, 8, 6, 8, 0, 2, 0, 0, 1, 0, 1, 0, 2, 1, 4, 1, 0, 2, 1,\n",
              "       0, 8, 0, 0, 5, 6, 0, 6, 4, 8, 1, 7, 3, 0, 7, 7, 3, 5, 6, 1, 0, 4,\n",
              "       7, 4, 4, 7, 2, 8, 8, 6, 8, 1, 1, 0, 7, 0, 6, 8, 1, 8, 0, 0, 8, 7,\n",
              "       2, 7, 0, 7, 6, 2, 0, 5, 2, 6, 1, 8, 8, 7, 2, 7, 7, 2, 0, 7, 1, 6,\n",
              "       6, 7, 5, 4, 3, 0, 4, 3, 0, 7, 7, 5, 3, 0, 4, 8, 1, 6, 2, 2, 1, 0,\n",
              "       2, 1, 7, 1, 8, 4, 7, 5, 2, 6, 1, 8, 0, 7, 4, 5, 3, 0, 4, 3, 2, 3,\n",
              "       7, 2, 4, 3, 6, 0, 3, 6, 1, 1, 8, 5, 0, 6, 8, 4, 1, 6, 0, 7],\n",
              "      dtype=int32)"
            ]
          },
          "metadata": {},
          "execution_count": 33
        }
      ],
      "source": [
        "metode_kmeans.labels_"
      ]
    },
    {
      "cell_type": "code",
      "execution_count": 34,
      "metadata": {
        "id": "zjyCAIU6Wxmt"
      },
      "outputs": [],
      "source": [
        "import numpy as np\n",
        "import matplotlib.pyplot as plt\n",
        "import pandas as pd\n",
        "\n"
      ]
    },
    {
      "cell_type": "code",
      "execution_count": 34,
      "metadata": {
        "id": "0RfZ2uxHG2l2"
      },
      "outputs": [],
      "source": []
    },
    {
      "cell_type": "code",
      "execution_count": 35,
      "metadata": {
        "colab": {
          "base_uri": "https://localhost:8080/",
          "height": 482
        },
        "id": "tJyWKlbxZmqa",
        "outputId": "263f1832-40f3-4e59-e1be-c42e67393480"
      },
      "outputs": [
        {
          "output_type": "stream",
          "name": "stderr",
          "text": [
            "<ipython-input-35-809bd06f0b5f>:3: UserWarning: No data for colormapping provided via 'c'. Parameters 'cmap' will be ignored\n",
            "  plt.scatter(skala_fitur[:,0], skala_fitur[:,1], s=50, alpha=1, cmap='viridis', c=color[metode_kmeans.labels_])\n"
          ]
        },
        {
          "output_type": "execute_result",
          "data": {
            "text/plain": [
              "<matplotlib.collections.PathCollection at 0x7bce33c8ee00>"
            ]
          },
          "metadata": {},
          "execution_count": 35
        },
        {
          "output_type": "display_data",
          "data": {
            "text/plain": [
              "<Figure size 640x480 with 1 Axes>"
            ],
            "image/png": "[encoded data removed]"
          },
          "metadata": {}
        }
      ],
      "source": [
        "color = np.array([\"Red\",\"black\",\"grey\",\"yellow\",\"green\",\"cyan\",\"blue\",\"pink\",\"purple\"])#saya tambahin warna sesuai jumlah nim paling belakang\n",
        "plt.subplot(1,2,2)\n",
        "plt.scatter(skala_fitur[:,0], skala_fitur[:,1], s=50, alpha=1, cmap='viridis', c=color[metode_kmeans.labels_])\n"
      ]
    },
    {
      "cell_type": "code",
      "execution_count": 35,
      "metadata": {
        "id": "uoAIyQgVIubc"
      },
      "outputs": [],
      "source": []
    }
  ],
  "metadata": {
    "colab": {
      "provenance": []
    },
    "kernelspec": {
      "display_name": "Python 3",
      "name": "python3"
    },
    "language_info": {
      "name": "python"
    }
  },
  "nbformat": 4,
  "nbformat_minor": 0
}